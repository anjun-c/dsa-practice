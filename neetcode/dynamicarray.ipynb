{
 "cells": [
  {
   "cell_type": "markdown",
   "metadata": {},
   "source": [
    "# Design Dynamic Array (Resizable Array)\n",
    "\n",
    "Design a Dynamic Array (aka a resizable array) class, such as an ArrayList in Java or a vector in C++.\n",
    "\n",
    "Your `DynamicArray` class should support the following operations:\n",
    "\n",
    "- `DynamicArray(int capacity)` will initialize an empty array with a capacity of `capacity`, where `capacity > 0`.\n",
    "- `int get(int i)` will return the element at index `i`. Assume that index `i` is valid.\n",
    "- `void set(int i, int n)` will set the element at index `i` to `n`. Assume that index `i` is valid.\n",
    "- `void pushback(int n)` will push the element `n` to the end of the array.\n",
    "- `int popback()` will pop and return the element at the end of the array. Assume that the array is non-empty.\n",
    "- `void resize()` will double the capacity of the array.\n",
    "- `int getSize()` will return the number of elements in the array.\n",
    "- `int getCapacity()` will return the capacity of the array.\n",
    "\n",
    "If we call `void pushback(int n)` but the array is full, we should resize the array first."
   ]
  },
  {
   "cell_type": "code",
   "execution_count": 2,
   "metadata": {},
   "outputs": [],
   "source": [
    "class DynamicArray:\n",
    "    \n",
    "    def __init__(self, capacity: int):\n",
    "        self.capacity = capacity\n",
    "        self.length = 0\n",
    "        self.arr = [0] * capacity\n",
    "\n",
    "    def get(self, i: int) -> int:\n",
    "        return self.arr[i]\n",
    "\n",
    "    def set(self, i: int, n: int) -> None:\n",
    "        self.arr[i] = n\n",
    "\n",
    "    def pushback(self, n: int) -> None:\n",
    "        if self.length == self.capacity:\n",
    "            self.resize()\n",
    "    \n",
    "        self.arr[self.length] = n\n",
    "        self.length += 1\n",
    "\n",
    "\n",
    "    def popback(self) -> int:\n",
    "        if self.length > 0:\n",
    "            self.length -= 1\n",
    "        \n",
    "        ret = self.arr[self.length]\n",
    "        self.arr[self.length] = 0\n",
    "        return ret\n",
    "    \n",
    "    def resize(self) -> None:\n",
    "        self.capacity = 2 * self.capacity\n",
    "        new_arr = [0] * self.capacity \n",
    "        \n",
    "        for i in range(self.length):\n",
    "            new_arr[i] = self.arr[i]\n",
    "        self.arr = new_arr\n",
    "\n",
    "    def getSize(self) -> int:\n",
    "        return self.length    \n",
    "    \n",
    "    def getCapacity(self) -> int:\n",
    "        return self.capacity"
   ]
  }
 ],
 "metadata": {
  "kernelspec": {
   "display_name": "base",
   "language": "python",
   "name": "python3"
  },
  "language_info": {
   "codemirror_mode": {
    "name": "ipython",
    "version": 3
   },
   "file_extension": ".py",
   "mimetype": "text/x-python",
   "name": "python",
   "nbconvert_exporter": "python",
   "pygments_lexer": "ipython3",
   "version": "3.11.7"
  }
 },
 "nbformat": 4,
 "nbformat_minor": 2
}
